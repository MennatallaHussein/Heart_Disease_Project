{
 "cells": [
  {
   "cell_type": "code",
   "execution_count": 14,
   "id": "15c4729c",
   "metadata": {},
   "outputs": [],
   "source": [
    "import pandas as pd\n",
    "import numpy as np\n",
    "import matplotlib.pyplot as plt\n",
    "import seaborn as sns\n",
    "import os\n",
    "\n",
    "# Define the directory where models will be saved\n",
    "models_dir = r\"C:\\Users\\menah\\Downloads\\Heart_Disease_Project\\data\"\n",
    "\n",
    "model_path = os.path.join(models_dir, 'X_train_pca.csv')\n",
    "X_train= pd.read_csv(model_path)\n",
    "\n",
    "model_path = os.path.join(models_dir, 'X_test_pca.csv')\n",
    "X_test=pd.read_csv(model_path) \n",
    "\n",
    "model_path = os.path.join(models_dir, 'heart_disease_target_test.csv')\n",
    "y_test=pd.read_csv(model_path) \n",
    "\n",
    "model_path = os.path.join(models_dir, 'heart_disease_target_train.csv')\n",
    "y_train=pd.read_csv(model_path)"
   ]
  },
  {
   "cell_type": "code",
   "execution_count": 15,
   "id": "6d3e15dd",
   "metadata": {},
   "outputs": [
    {
     "name": "stdout",
     "output_type": "stream",
     "text": [
      "Fitting 5 folds for each of 576 candidates, totalling 2880 fits\n"
     ]
    },
    {
     "name": "stderr",
     "output_type": "stream",
     "text": [
      "c:\\Users\\menah\\anaconda3\\Lib\\site-packages\\xgboost\\training.py:183: UserWarning: [17:10:37] WARNING: C:\\actions-runner\\_work\\xgboost\\xgboost\\src\\learner.cc:738: \n",
      "Parameters: { \"use_label_encoder\" } are not used.\n",
      "\n",
      "  bst.update(dtrain, iteration=i, fobj=obj)\n"
     ]
    },
    {
     "name": "stdout",
     "output_type": "stream",
     "text": [
      "Best XGB Params: {'colsample_bytree': 0.8, 'learning_rate': 0.1, 'max_depth': 10, 'n_estimators': 500, 'subsample': 0.8}\n",
      "Best XGB F1 Score: 0.8513342801022168\n"
     ]
    }
   ],
   "source": [
    "from xgboost import XGBClassifier\n",
    "from sklearn.model_selection import RandomizedSearchCV, GridSearchCV, StratifiedKFold\n",
    "\n",
    "xgb = XGBClassifier(\n",
    "    objective=\"binary:logistic\",\n",
    "    eval_metric=\"logloss\",\n",
    "    use_label_encoder=False,\n",
    "    random_state=42\n",
    ")\n",
    "\n",
    "xgb_params = {\n",
    "    'n_estimators': [100, 200, 300, 500],\n",
    "    'max_depth': [3, 5, 7, 10],\n",
    "    'learning_rate': [0.01, 0.05, 0.1, 0.2],\n",
    "    'subsample': [0.6, 0.8, 1.0],\n",
    "    'colsample_bytree': [0.6, 0.8, 1.0]\n",
    "}\n",
    "\n",
    "xgb_grid = GridSearchCV(\n",
    "    estimator=xgb,\n",
    "    param_grid=xgb_params,\n",
    "    scoring='f1',\n",
    "    cv=5,\n",
    "    n_jobs=-1,\n",
    "    verbose=2\n",
    ")\n",
    "\n",
    "xgb_grid.fit(X_train, y_train)\n",
    "\n",
    "print(\"Best XGB Params:\", xgb_grid.best_params_)\n",
    "print(\"Best XGB F1 Score:\", xgb_grid.best_score_)\n"
   ]
  },
  {
   "cell_type": "code",
   "execution_count": 16,
   "id": "041fabd1",
   "metadata": {},
   "outputs": [
    {
     "name": "stdout",
     "output_type": "stream",
     "text": [
      "Fitting 5 folds for each of 288 candidates, totalling 1440 fits\n"
     ]
    },
    {
     "name": "stderr",
     "output_type": "stream",
     "text": [
      "c:\\Users\\menah\\anaconda3\\Lib\\site-packages\\sklearn\\base.py:1389: DataConversionWarning: A column-vector y was passed when a 1d array was expected. Please change the shape of y to (n_samples,), for example using ravel().\n",
      "  return fit_method(estimator, *args, **kwargs)\n"
     ]
    },
    {
     "name": "stdout",
     "output_type": "stream",
     "text": [
      "Best RF Params: {'max_depth': 10, 'max_features': 'sqrt', 'min_samples_leaf': 4, 'min_samples_split': 2, 'n_estimators': 300}\n",
      "Best RF F1 Score: 0.8155256809016105\n"
     ]
    }
   ],
   "source": [
    "from sklearn.ensemble import RandomForestClassifier\n",
    "from sklearn.model_selection import GridSearchCV, StratifiedKFold\n",
    "\n",
    "# Base model\n",
    "rf = RandomForestClassifier(random_state=42, class_weight='balanced')\n",
    "\n",
    "# Parameter grid (start broad, then narrow down like you did earlier)\n",
    "rf_params = {\n",
    "    'n_estimators': [100, 200, 300, 500],\n",
    "    'max_depth': [5, 10, 20, None],\n",
    "    'min_samples_split': [2, 5, 10],\n",
    "    'min_samples_leaf': [1, 2, 4],\n",
    "    'max_features': ['sqrt', 'log2']\n",
    "}\n",
    "\n",
    "# Stratified CV\n",
    "cv_strategy = StratifiedKFold(n_splits=5, shuffle=True, random_state=42)\n",
    "\n",
    "# Grid search (optimize for F1)\n",
    "rf_grid = GridSearchCV(\n",
    "    estimator=rf,\n",
    "    param_grid=rf_params,\n",
    "    scoring='f1',   # ✅ focus on F1\n",
    "    cv=cv_strategy,\n",
    "    n_jobs=-1,\n",
    "    verbose=2\n",
    ")\n",
    "\n",
    "# Fit\n",
    "rf_grid.fit(X_train, y_train)\n",
    "\n",
    "print(\"Best RF Params:\", rf_grid.best_params_)\n",
    "print(\"Best RF F1 Score:\", rf_grid.best_score_)\n"
   ]
  },
  {
   "cell_type": "code",
   "execution_count": 17,
   "id": "ef4598ec",
   "metadata": {},
   "outputs": [
    {
     "name": "stdout",
     "output_type": "stream",
     "text": [
      "Fitting 5 folds for each of 75 candidates, totalling 375 fits\n",
      "Best SVM Params: {'C': 0.1, 'gamma': 0.01, 'kernel': 'rbf'}\n",
      "Best SVM F1 Score: 0.8076118686814036\n"
     ]
    },
    {
     "name": "stderr",
     "output_type": "stream",
     "text": [
      "c:\\Users\\menah\\anaconda3\\Lib\\site-packages\\sklearn\\utils\\validation.py:1408: DataConversionWarning: A column-vector y was passed when a 1d array was expected. Please change the shape of y to (n_samples, ), for example using ravel().\n",
      "  y = column_or_1d(y, warn=True)\n"
     ]
    }
   ],
   "source": [
    "from sklearn.svm import SVC\n",
    "from sklearn.model_selection import GridSearchCV, StratifiedKFold\n",
    "\n",
    "# Cross-validation strategy\n",
    "cv_strategy = StratifiedKFold(n_splits=5, shuffle=True, random_state=42)\n",
    "\n",
    "# Parameter grid\n",
    "svm_params = {\n",
    "    \"C\": [0.1, 1, 10, 50, 100],          # regularization strength\n",
    "    \"kernel\": [\"linear\", \"rbf\", \"poly\"], # kernel types\n",
    "    \"gamma\": [\"scale\", \"auto\", 0.01, 0.1, 1]  # kernel coefficient (for rbf/poly)\n",
    "}\n",
    "\n",
    "# Grid search\n",
    "svm_grid = GridSearchCV(\n",
    "    SVC(probability=True, class_weight=\"balanced\", random_state=42),\n",
    "    param_grid=svm_params,\n",
    "    scoring=\"f1\",\n",
    "    cv=cv_strategy,\n",
    "    verbose=2,\n",
    "    n_jobs=-1\n",
    ")\n",
    "\n",
    "# Fit\n",
    "svm_grid.fit(X_train, y_train)\n",
    "\n",
    "print(\"Best SVM Params:\", svm_grid.best_params_)\n",
    "print(\"Best SVM F1 Score:\", svm_grid.best_score_)\n"
   ]
  },
  {
   "cell_type": "code",
   "execution_count": 18,
   "id": "ac603b3b",
   "metadata": {},
   "outputs": [
    {
     "name": "stdout",
     "output_type": "stream",
     "text": [
      "Fitting 5 folds for each of 30 candidates, totalling 150 fits\n",
      "Best Logistic Regression Params: {'C': 0.1, 'l1_ratio': 0.5, 'max_iter': 1000, 'penalty': 'elasticnet', 'solver': 'saga'}\n",
      "Best Logistic Regression F1 Score: 0.8276778832896122\n"
     ]
    },
    {
     "name": "stderr",
     "output_type": "stream",
     "text": [
      "c:\\Users\\menah\\anaconda3\\Lib\\site-packages\\sklearn\\model_selection\\_validation.py:528: FitFailedWarning: \n",
      "15 fits failed out of a total of 150.\n",
      "The score on these train-test partitions for these parameters will be set to nan.\n",
      "If these failures are not expected, you can try to debug them by setting error_score='raise'.\n",
      "\n",
      "Below are more details about the failures:\n",
      "--------------------------------------------------------------------------------\n",
      "3 fits failed with the following error:\n",
      "Traceback (most recent call last):\n",
      "  File \"c:\\Users\\menah\\anaconda3\\Lib\\site-packages\\sklearn\\model_selection\\_validation.py\", line 866, in _fit_and_score\n",
      "    estimator.fit(X_train, y_train, **fit_params)\n",
      "  File \"c:\\Users\\menah\\anaconda3\\Lib\\site-packages\\sklearn\\base.py\", line 1382, in wrapper\n",
      "    estimator._validate_params()\n",
      "  File \"c:\\Users\\menah\\anaconda3\\Lib\\site-packages\\sklearn\\base.py\", line 436, in _validate_params\n",
      "    validate_parameter_constraints(\n",
      "  File \"c:\\Users\\menah\\anaconda3\\Lib\\site-packages\\sklearn\\utils\\_param_validation.py\", line 98, in validate_parameter_constraints\n",
      "    raise InvalidParameterError(\n",
      "sklearn.utils._param_validation.InvalidParameterError: The 'penalty' parameter of LogisticRegression must be a str among {'l2', 'elasticnet', 'l1'} or None. Got 'none' instead.\n",
      "\n",
      "--------------------------------------------------------------------------------\n",
      "1 fits failed with the following error:\n",
      "Traceback (most recent call last):\n",
      "  File \"c:\\Users\\menah\\anaconda3\\Lib\\site-packages\\sklearn\\model_selection\\_validation.py\", line 866, in _fit_and_score\n",
      "    estimator.fit(X_train, y_train, **fit_params)\n",
      "  File \"c:\\Users\\menah\\anaconda3\\Lib\\site-packages\\sklearn\\base.py\", line 1382, in wrapper\n",
      "    estimator._validate_params()\n",
      "  File \"c:\\Users\\menah\\anaconda3\\Lib\\site-packages\\sklearn\\base.py\", line 436, in _validate_params\n",
      "    validate_parameter_constraints(\n",
      "  File \"c:\\Users\\menah\\anaconda3\\Lib\\site-packages\\sklearn\\utils\\_param_validation.py\", line 98, in validate_parameter_constraints\n",
      "    raise InvalidParameterError(\n",
      "sklearn.utils._param_validation.InvalidParameterError: The 'penalty' parameter of LogisticRegression must be a str among {'l2', 'l1', 'elasticnet'} or None. Got 'none' instead.\n",
      "\n",
      "--------------------------------------------------------------------------------\n",
      "2 fits failed with the following error:\n",
      "Traceback (most recent call last):\n",
      "  File \"c:\\Users\\menah\\anaconda3\\Lib\\site-packages\\sklearn\\model_selection\\_validation.py\", line 866, in _fit_and_score\n",
      "    estimator.fit(X_train, y_train, **fit_params)\n",
      "  File \"c:\\Users\\menah\\anaconda3\\Lib\\site-packages\\sklearn\\base.py\", line 1382, in wrapper\n",
      "    estimator._validate_params()\n",
      "  File \"c:\\Users\\menah\\anaconda3\\Lib\\site-packages\\sklearn\\base.py\", line 436, in _validate_params\n",
      "    validate_parameter_constraints(\n",
      "  File \"c:\\Users\\menah\\anaconda3\\Lib\\site-packages\\sklearn\\utils\\_param_validation.py\", line 98, in validate_parameter_constraints\n",
      "    raise InvalidParameterError(\n",
      "sklearn.utils._param_validation.InvalidParameterError: The 'penalty' parameter of LogisticRegression must be a str among {'elasticnet', 'l1', 'l2'} or None. Got 'none' instead.\n",
      "\n",
      "--------------------------------------------------------------------------------\n",
      "3 fits failed with the following error:\n",
      "Traceback (most recent call last):\n",
      "  File \"c:\\Users\\menah\\anaconda3\\Lib\\site-packages\\sklearn\\model_selection\\_validation.py\", line 866, in _fit_and_score\n",
      "    estimator.fit(X_train, y_train, **fit_params)\n",
      "  File \"c:\\Users\\menah\\anaconda3\\Lib\\site-packages\\sklearn\\base.py\", line 1382, in wrapper\n",
      "    estimator._validate_params()\n",
      "  File \"c:\\Users\\menah\\anaconda3\\Lib\\site-packages\\sklearn\\base.py\", line 436, in _validate_params\n",
      "    validate_parameter_constraints(\n",
      "  File \"c:\\Users\\menah\\anaconda3\\Lib\\site-packages\\sklearn\\utils\\_param_validation.py\", line 98, in validate_parameter_constraints\n",
      "    raise InvalidParameterError(\n",
      "sklearn.utils._param_validation.InvalidParameterError: The 'penalty' parameter of LogisticRegression must be a str among {'elasticnet', 'l2', 'l1'} or None. Got 'none' instead.\n",
      "\n",
      "--------------------------------------------------------------------------------\n",
      "3 fits failed with the following error:\n",
      "Traceback (most recent call last):\n",
      "  File \"c:\\Users\\menah\\anaconda3\\Lib\\site-packages\\sklearn\\model_selection\\_validation.py\", line 866, in _fit_and_score\n",
      "    estimator.fit(X_train, y_train, **fit_params)\n",
      "  File \"c:\\Users\\menah\\anaconda3\\Lib\\site-packages\\sklearn\\base.py\", line 1382, in wrapper\n",
      "    estimator._validate_params()\n",
      "  File \"c:\\Users\\menah\\anaconda3\\Lib\\site-packages\\sklearn\\base.py\", line 436, in _validate_params\n",
      "    validate_parameter_constraints(\n",
      "  File \"c:\\Users\\menah\\anaconda3\\Lib\\site-packages\\sklearn\\utils\\_param_validation.py\", line 98, in validate_parameter_constraints\n",
      "    raise InvalidParameterError(\n",
      "sklearn.utils._param_validation.InvalidParameterError: The 'penalty' parameter of LogisticRegression must be a str among {'l1', 'l2', 'elasticnet'} or None. Got 'none' instead.\n",
      "\n",
      "--------------------------------------------------------------------------------\n",
      "3 fits failed with the following error:\n",
      "Traceback (most recent call last):\n",
      "  File \"c:\\Users\\menah\\anaconda3\\Lib\\site-packages\\sklearn\\model_selection\\_validation.py\", line 866, in _fit_and_score\n",
      "    estimator.fit(X_train, y_train, **fit_params)\n",
      "  File \"c:\\Users\\menah\\anaconda3\\Lib\\site-packages\\sklearn\\base.py\", line 1382, in wrapper\n",
      "    estimator._validate_params()\n",
      "  File \"c:\\Users\\menah\\anaconda3\\Lib\\site-packages\\sklearn\\base.py\", line 436, in _validate_params\n",
      "    validate_parameter_constraints(\n",
      "  File \"c:\\Users\\menah\\anaconda3\\Lib\\site-packages\\sklearn\\utils\\_param_validation.py\", line 98, in validate_parameter_constraints\n",
      "    raise InvalidParameterError(\n",
      "sklearn.utils._param_validation.InvalidParameterError: The 'penalty' parameter of LogisticRegression must be a str among {'l1', 'elasticnet', 'l2'} or None. Got 'none' instead.\n",
      "\n",
      "  warnings.warn(some_fits_failed_message, FitFailedWarning)\n",
      "c:\\Users\\menah\\anaconda3\\Lib\\site-packages\\sklearn\\model_selection\\_search.py:1108: UserWarning: One or more of the test scores are non-finite: [0.81880543 0.81282537 0.79126948 0.79126948 0.79155899 0.79155899\n",
      " 0.80137442 0.80137442 0.80137442 0.80137442 0.78653483 0.78653483\n",
      " 0.78653483 0.78653483 0.78775349 0.78775349 0.79155899 0.79155899\n",
      " 0.81300639 0.82767788 0.82456358 0.79155899 0.78598407 0.78598407\n",
      " 0.79155899 0.79155899 0.79155899        nan        nan        nan]\n",
      "  warnings.warn(\n",
      "c:\\Users\\menah\\anaconda3\\Lib\\site-packages\\sklearn\\utils\\validation.py:1408: DataConversionWarning: A column-vector y was passed when a 1d array was expected. Please change the shape of y to (n_samples, ), for example using ravel().\n",
      "  y = column_or_1d(y, warn=True)\n"
     ]
    }
   ],
   "source": [
    "from sklearn.linear_model import LogisticRegression\n",
    "from sklearn.model_selection import GridSearchCV, StratifiedKFold\n",
    "\n",
    "# Cross-validation\n",
    "cv_strategy = StratifiedKFold(n_splits=5, shuffle=True, random_state=42)\n",
    "\n",
    "# Parameter grid\n",
    "\n",
    "log_params = [\n",
    "    # L1 penalty: liblinear or saga\n",
    "    {'penalty': ['l1'], 'solver': ['liblinear', 'saga'], 'C': [0.1, 1, 10], 'max_iter': [1000]},\n",
    "    \n",
    "    # L2 penalty: all solvers except saga-specific elasticnet\n",
    "    {'penalty': ['l2'], 'solver': ['lbfgs', 'liblinear', 'newton-cg', 'saga'], 'C': [0.1, 1, 10], 'max_iter': [1000]},\n",
    "    \n",
    "    # ElasticNet: only saga, must set l1_ratio\n",
    "    {'penalty': ['elasticnet'], 'solver': ['saga'], 'l1_ratio': [0.2, 0.5, 0.8], 'C': [0.1, 1, 10], 'max_iter': [1000]},\n",
    "    \n",
    "    # No penalty: lbfgs, newton-cg, saga\n",
    "    {'penalty': ['none'], 'solver': ['lbfgs', 'newton-cg', 'saga'], 'max_iter': [1000]}\n",
    "]\n",
    "\n",
    "# Grid search\n",
    "log_reg_grid = GridSearchCV(\n",
    "    LogisticRegression(class_weight=\"balanced\", max_iter=5000, random_state=42),\n",
    "    param_grid=log_params,\n",
    "    scoring=\"f1\",\n",
    "    cv=cv_strategy,\n",
    "    verbose=2,\n",
    "    n_jobs=-1\n",
    ")\n",
    "\n",
    "# Fit\n",
    "log_reg_grid.fit(X_train, y_train)\n",
    "\n",
    "print(\"Best Logistic Regression Params:\", log_reg_grid.best_params_)\n",
    "print(\"Best Logistic Regression F1 Score:\", log_reg_grid.best_score_)\n"
   ]
  },
  {
   "cell_type": "code",
   "execution_count": 19,
   "id": "cea5205f",
   "metadata": {},
   "outputs": [
    {
     "name": "stdout",
     "output_type": "stream",
     "text": [
      "Fitting 5 folds for each of 864 candidates, totalling 4320 fits\n",
      "Best Decision Tree Params: {'criterion': 'entropy', 'max_depth': None, 'max_features': None, 'min_samples_leaf': 8, 'min_samples_split': 20}\n",
      "Best Decision Tree F1 Score: 0.8137963874748101\n"
     ]
    }
   ],
   "source": [
    "from sklearn.model_selection import GridSearchCV, StratifiedKFold\n",
    "from sklearn.tree import DecisionTreeClassifier\n",
    "\n",
    "cv_strategy = StratifiedKFold(n_splits=5, shuffle=True, random_state=42)\n",
    "\n",
    "dt_params = {\n",
    "    \"criterion\": [\"gini\", \"entropy\", \"log_loss\"],\n",
    "    \"max_depth\": [None, 3, 5, 10, 20, 30],\n",
    "    \"min_samples_split\": [2, 5, 10, 20],\n",
    "    \"min_samples_leaf\": [1, 2, 4, 8],\n",
    "    \"max_features\": [None, \"sqrt\", \"log2\"]\n",
    "}\n",
    "\n",
    "dt_grid = GridSearchCV(\n",
    "    estimator=DecisionTreeClassifier(random_state=42, class_weight=\"balanced\"),\n",
    "    param_grid=dt_params,\n",
    "    scoring=\"f1\",\n",
    "    cv=cv_strategy,\n",
    "    verbose=2,\n",
    "    n_jobs=-1\n",
    ")\n",
    "\n",
    "dt_grid.fit(X_train, y_train)\n",
    "\n",
    "print(\"Best Decision Tree Params:\", dt_grid.best_params_)\n",
    "print(\"Best Decision Tree F1 Score:\", dt_grid.best_score_)\n"
   ]
  },
  {
   "cell_type": "code",
   "execution_count": 20,
   "id": "af322712",
   "metadata": {},
   "outputs": [],
   "source": [
    "# Dictionary to store best params from your searches\n",
    "best_params = {\n",
    "    \"RandomForest\": rf_grid.best_params_,\n",
    "    \"SVM\": svm_grid.best_params_,\n",
    "    \"LogisticRegression\": log_reg_grid.best_params_,\n",
    "    \"DecisionTree\": dt_grid.best_params_,\n",
    "    \"XGB\": xgb_grid.best_params_   \n",
    "}"
   ]
  },
  {
   "cell_type": "code",
   "execution_count": 21,
   "id": "59c3d0d1",
   "metadata": {},
   "outputs": [
    {
     "name": "stderr",
     "output_type": "stream",
     "text": [
      "c:\\Users\\menah\\anaconda3\\Lib\\site-packages\\sklearn\\base.py:1389: DataConversionWarning: A column-vector y was passed when a 1d array was expected. Please change the shape of y to (n_samples,), for example using ravel().\n",
      "  return fit_method(estimator, *args, **kwargs)\n",
      "c:\\Users\\menah\\anaconda3\\Lib\\site-packages\\sklearn\\utils\\validation.py:1408: DataConversionWarning: A column-vector y was passed when a 1d array was expected. Please change the shape of y to (n_samples, ), for example using ravel().\n",
      "  y = column_or_1d(y, warn=True)\n",
      "c:\\Users\\menah\\anaconda3\\Lib\\site-packages\\sklearn\\utils\\validation.py:1408: DataConversionWarning: A column-vector y was passed when a 1d array was expected. Please change the shape of y to (n_samples, ), for example using ravel().\n",
      "  y = column_or_1d(y, warn=True)\n",
      "c:\\Users\\menah\\anaconda3\\Lib\\site-packages\\xgboost\\training.py:183: UserWarning: [17:11:57] WARNING: C:\\actions-runner\\_work\\xgboost\\xgboost\\src\\learner.cc:738: \n",
      "Parameters: { \"use_label_encoder\" } are not used.\n",
      "\n",
      "  bst.update(dtrain, iteration=i, fobj=obj)\n"
     ]
    },
    {
     "name": "stdout",
     "output_type": "stream",
     "text": [
      "                Model  Accuracy  Precision  Recall  F1-score    AUC\n",
      "0        RandomForest     0.933      0.955   0.875     0.913  0.941\n",
      "1                 SVM     0.900      0.909   0.833     0.870  0.928\n",
      "2  LogisticRegression     0.900      0.909   0.833     0.870  0.925\n",
      "3        DecisionTree     0.867      0.767   0.958     0.852  0.939\n",
      "4                 XGB     0.850      0.826   0.792     0.809  0.913\n"
     ]
    }
   ],
   "source": [
    "final_models = {\n",
    "    \"RandomForest\": RandomForestClassifier(**best_params[\"RandomForest\"], random_state=42, class_weight=\"balanced\"),\n",
    "    \"SVM\": SVC(**best_params[\"SVM\"], probability=True, random_state=42),\n",
    "    \"LogisticRegression\": LogisticRegression(**best_params[\"LogisticRegression\"], random_state=42),\n",
    "    \"DecisionTree\": DecisionTreeClassifier(**best_params[\"DecisionTree\"], random_state=42, class_weight=\"balanced\"),\n",
    "    \"XGB\": XGBClassifier(**best_params[\"XGB\"], use_label_encoder=False, eval_metric=\"logloss\", random_state=42)\n",
    "}\n",
    "\n",
    "from sklearn.metrics import accuracy_score, precision_score, recall_score, f1_score, roc_auc_score\n",
    "import pandas as pd\n",
    "\n",
    "results_final = []\n",
    "\n",
    "for name, model in final_models.items():\n",
    "    model.fit(X_train, y_train)  # fit on full training set\n",
    "    \n",
    "    y_pred = model.predict(X_test)\n",
    "    y_prob = model.predict_proba(X_test)[:, 1] if hasattr(model, \"predict_proba\") else None\n",
    "    \n",
    "    acc = accuracy_score(y_test, y_pred)\n",
    "    prec = precision_score(y_test, y_pred)\n",
    "    rec = recall_score(y_test, y_pred)\n",
    "    f1 = f1_score(y_test, y_pred)\n",
    "    \n",
    "    auc = roc_auc_score(y_test, y_prob) if y_prob is not None else None\n",
    "    \n",
    "    results_final.append([name, acc, prec, rec, f1, auc])\n",
    "\n",
    "# Save in DataFrame\n",
    "results_final_df = pd.DataFrame(results_final, columns=[\"Model\", \"Accuracy\", \"Precision\", \"Recall\", \"F1-score\", \"AUC\"])\n",
    "results_final_df = results_final_df.sort_values(by=\"F1-score\", ascending=False).round(3)\n",
    "\n",
    "print(results_final_df)"
   ]
  },
  {
   "cell_type": "code",
   "execution_count": 40,
   "id": "2899d056",
   "metadata": {},
   "outputs": [],
   "source": [
    "# Save DataFrame to txt (tabular text)\n",
    "with open(r\"C:\\Users\\menah\\Downloads\\Heart_Disease_Project\\results\\evaluation_metrics.txt\", \"a\") as f:\n",
    "    f.write('After Hyperparameter Tuning\\n')\n",
    "    f.write(results_final_df.to_string(index=False))"
   ]
  },
  {
   "cell_type": "code",
   "execution_count": 22,
   "id": "3b195c86",
   "metadata": {},
   "outputs": [
    {
     "name": "stderr",
     "output_type": "stream",
     "text": [
      "c:\\Users\\menah\\anaconda3\\Lib\\site-packages\\sklearn\\base.py:1389: DataConversionWarning: A column-vector y was passed when a 1d array was expected. Please change the shape of y to (n_samples,), for example using ravel().\n",
      "  return fit_method(estimator, *args, **kwargs)\n",
      "c:\\Users\\menah\\anaconda3\\Lib\\site-packages\\sklearn\\utils\\validation.py:1408: DataConversionWarning: A column-vector y was passed when a 1d array was expected. Please change the shape of y to (n_samples, ), for example using ravel().\n",
      "  y = column_or_1d(y, warn=True)\n",
      "c:\\Users\\menah\\anaconda3\\Lib\\site-packages\\sklearn\\utils\\validation.py:1408: DataConversionWarning: A column-vector y was passed when a 1d array was expected. Please change the shape of y to (n_samples, ), for example using ravel().\n",
      "  y = column_or_1d(y, warn=True)\n",
      "c:\\Users\\menah\\anaconda3\\Lib\\site-packages\\xgboost\\training.py:183: UserWarning: [17:11:58] WARNING: C:\\actions-runner\\_work\\xgboost\\xgboost\\src\\learner.cc:738: \n",
      "Parameters: { \"use_label_encoder\" } are not used.\n",
      "\n",
      "  bst.update(dtrain, iteration=i, fobj=obj)\n"
     ]
    }
   ],
   "source": [
    "from sklearn.metrics import roc_curve\n",
    "\n",
    "roc_curves = {}\n",
    "\n",
    "for name, model in final_models.items():\n",
    "    model.fit(X_train, y_train)\n",
    "    \n",
    "    if hasattr(model, \"predict_proba\"):\n",
    "        y_prob = model.predict_proba(X_test)[:, 1]  # prob for class 1\n",
    "        fpr, tpr, _ = roc_curve(y_test, y_prob)\n",
    "        roc_curves[name] = (fpr, tpr)"
   ]
  },
  {
   "cell_type": "code",
   "execution_count": 23,
   "id": "81045c62",
   "metadata": {},
   "outputs": [
    {
     "data": {
      "image/png": "[encoded data removed]",
      "text/plain": [
       "<Figure size 800x600 with 1 Axes>"
      ]
     },
     "metadata": {},
     "output_type": "display_data"
    }
   ],
   "source": [
    "import matplotlib.pyplot as plt\n",
    "\n",
    "plt.figure(figsize=(8,6))\n",
    "for name, (fpr, tpr) in roc_curves.items():\n",
    "    plt.plot(fpr, tpr, label=name)\n",
    "\n",
    "plt.plot([0,1], [0,1], 'k--')  # diagonal line\n",
    "plt.xlabel(\"False Positive Rate\")\n",
    "plt.ylabel(\"True Positive Rate\")\n",
    "plt.title(\"ROC Curves for Models\")\n",
    "plt.legend()\n",
    "plt.show()"
   ]
  },
  {
   "cell_type": "markdown",
   "id": "6615ce42",
   "metadata": {},
   "source": [
    "### Best performing models\n",
    "\n",
    "-Supervised Learning: Random Forest  is the stronger performer overall\n",
    "\n",
    "-Supervised Learning (optimized hyperparameters): Random Forest  is the stronger performer overall"
   ]
  },
  {
   "cell_type": "code",
   "execution_count": 24,
   "id": "28ccc18d",
   "metadata": {},
   "outputs": [
    {
     "name": "stdout",
     "output_type": "stream",
     "text": [
      "Saved RandomForest to C:\\Users\\menah\\Downloads\\Heart_Disease_Project\\models\\RandomForest_best_model.pkl\n",
      "Saved SVM to C:\\Users\\menah\\Downloads\\Heart_Disease_Project\\models\\SVM_best_model.pkl\n",
      "Saved LogisticRegression to C:\\Users\\menah\\Downloads\\Heart_Disease_Project\\models\\LogisticRegression_best_model.pkl\n",
      "Saved DecisionTree to C:\\Users\\menah\\Downloads\\Heart_Disease_Project\\models\\DecisionTree_best_model.pkl\n",
      "Saved XGB to C:\\Users\\menah\\Downloads\\Heart_Disease_Project\\models\\XGB_best_model.pkl\n"
     ]
    }
   ],
   "source": [
    "import joblib\n",
    "import os\n",
    "\n",
    "# Define the directory where models will be saved\n",
    "models_dir = r\"C:\\Users\\menah\\Downloads\\Heart_Disease_Project\\models\"\n",
    "os.makedirs(models_dir, exist_ok=True)  # Create directory if it doesn't exist\n",
    "\n",
    "\n",
    "# Save all supervised models\n",
    "\n",
    "for name, model in final_models.items():\n",
    "    model_path = os.path.join(models_dir, f\"{name}_best_model.pkl\")\n",
    "    joblib.dump(model, model_path)\n",
    "    print(f\"Saved {name} to {model_path}\")"
   ]
  },
  {
   "cell_type": "code",
   "execution_count": 37,
   "id": "71a323fa",
   "metadata": {},
   "outputs": [],
   "source": [
    "# 07_final_pipeline.ipynb\n",
    "\n",
    "# ==== 1. Imports ====\n",
    "import numpy as np\n",
    "import pandas as pd\n",
    "from sklearn.pipeline import Pipeline\n",
    "from sklearn.compose import ColumnTransformer\n",
    "from sklearn.preprocessing import StandardScaler, OneHotEncoder\n",
    "from sklearn.decomposition import PCA\n",
    "from sklearn.feature_selection import RFE\n",
    "from sklearn.ensemble import RandomForestClassifier\n",
    "import joblib\n",
    "import os\n",
    "\n",
    "# ==== 2. Load your data ====\n",
    "# Replace with your actual dataset path\n",
    "df = pd.read_csv(r\"C:\\Users\\menah\\Downloads\\Heart_Disease_Project\\data\\heart_disease.csv\")\n",
    "df.columns = [\n",
    "    \"age\", \"sex\", \"cp\", \"trestbps\", \"chol\", \"fbs\", \"restecg\", \n",
    "    \"thalach\", \"exang\", \"oldpeak\", \"slope\", \"ca\", \"thal\", \"target\"\n",
    "]\n",
    "\n",
    "# Define target and features\n",
    "target_col = \"target\"\n",
    "X = df.drop(columns=[target_col])\n",
    "y = df[target_col]\n",
    "\n",
    "# ==== 3. Column selection ====\n",
    "cat_columns = X.select_dtypes(include=\"object\").columns\n",
    "num_columns = X.select_dtypes(include=[np.number]).columns"
   ]
  },
  {
   "cell_type": "code",
   "execution_count": 38,
   "id": "6397109c",
   "metadata": {},
   "outputs": [],
   "source": [
    "# ==== 4. Preprocessor ====\n",
    "from sklearn.impute import SimpleImputer\n",
    "num_transformer = Pipeline(steps=[\n",
    "    (\"imputer\", SimpleImputer(strategy=\"median\")),\n",
    "    (\"scaler\", StandardScaler())\n",
    "])\n",
    "\n",
    "cat_transformer = Pipeline(steps=[\n",
    "    (\"imputer\", SimpleImputer(strategy=\"most_frequent\")),\n",
    "    (\"encoder\", OneHotEncoder(handle_unknown=\"ignore\", sparse_output=False))\n",
    "])\n",
    "\n",
    "preprocessor = ColumnTransformer([\n",
    "    (\"num\", num_transformer, num_columns),\n",
    "    (\"cat\", cat_transformer, cat_columns)\n",
    "])"
   ]
  },
  {
   "cell_type": "code",
   "execution_count": 39,
   "id": "03e0ff17",
   "metadata": {},
   "outputs": [
    {
     "name": "stdout",
     "output_type": "stream",
     "text": [
      "✅ Classification pipeline saved at C:\\Users\\menah\\Downloads\\Heart_Disease_Project\\models\\RandomForest_full_pipeline.pkl\n"
     ]
    }
   ],
   "source": [
    "# ==== 5. Build Classification Pipeline ====\n",
    "optimal_components = 18   # retain 95% variance\n",
    "n_features_to_select = 18\n",
    "\n",
    "clf_pipeline = Pipeline([\n",
    "    (\"preprocessing\", preprocessor),\n",
    "    (\"pca\", PCA(n_components=optimal_components)),\n",
    "    (\"classifier\", RandomForestClassifier(\n",
    "        random_state=42,\n",
    "        class_weight=\"balanced\",\n",
    "        n_estimators=300,\n",
    "        max_depth=10,\n",
    "        max_features=\"sqrt\",\n",
    "        min_samples_leaf=4,\n",
    "        min_samples_split=2\n",
    "    ))\n",
    "])\n",
    "\n",
    "# ==== 6. Fit classification pipeline ====\n",
    "clf_pipeline.fit(X, y)\n",
    "\n",
    "# ==== 7. Save classification pipeline ====\n",
    "models_dir = r\"C:\\Users\\menah\\Downloads\\Heart_Disease_Project\\models\"\n",
    "os.makedirs(models_dir, exist_ok=True)\n",
    "\n",
    "clf_path = os.path.join(models_dir, \"RandomForest_full_pipeline.pkl\")\n",
    "joblib.dump(clf_pipeline, clf_path)\n",
    "print(f\"✅ Classification pipeline saved at {clf_path}\")\n",
    "\n",
    "\n"
   ]
  }
 ],
 "metadata": {
  "kernelspec": {
   "display_name": "base",
   "language": "python",
   "name": "python3"
  },
  "language_info": {
   "codemirror_mode": {
    "name": "ipython",
    "version": 3
   },
   "file_extension": ".py",
   "mimetype": "text/x-python",
   "name": "python",
   "nbconvert_exporter": "python",
   "pygments_lexer": "ipython3",
   "version": "3.12.7"
  }
 },
 "nbformat": 4,
 "nbformat_minor": 5
}
